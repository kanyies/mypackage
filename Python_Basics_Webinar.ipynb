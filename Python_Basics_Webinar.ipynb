{
  "nbformat": 4,
  "nbformat_minor": 0,
  "metadata": {
    "colab": {
      "name": "Python_Basics_Webinar.ipynb",
      "provenance": [],
      "private_outputs": true,
      "collapsed_sections": [],
      "toc_visible": true,
      "include_colab_link": true
    },
    "kernelspec": {
      "display_name": "Python 3",
      "language": "python",
      "name": "python3"
    },
    "language_info": {
      "codemirror_mode": {
        "name": "ipython",
        "version": 3
      },
      "file_extension": ".py",
      "mimetype": "text/x-python",
      "name": "python",
      "nbconvert_exporter": "python",
      "pygments_lexer": "ipython3",
      "version": "3.7.1"
    }
  },
  "cells": [
    {
      "cell_type": "markdown",
      "metadata": {
        "id": "view-in-github",
        "colab_type": "text"
      },
      "source": [
        "<a href=\"https://colab.research.google.com/github/kanyies/mypackage/blob/master/Python_Basics_Webinar.ipynb\" target=\"_parent\"><img src=\"https://colab.research.google.com/assets/colab-badge.svg\" alt=\"Open In Colab\"/></a>"
      ]
    },
    {
      "cell_type": "markdown",
      "metadata": {
        "colab_type": "text",
        "id": "6-VA1v4W5q1H"
      },
      "source": [
        "# Python Basics\n"
      ]
    },
    {
      "cell_type": "markdown",
      "metadata": {
        "colab_type": "text",
        "id": "8kXrQkBl5q1J"
      },
      "source": [
        "**Introduction**\n",
        "\n",
        "The following tutorial covers a basic introduction to the Python programming language, and using the Numpy library for mathematical computing.\n"
      ]
    },
    {
      "cell_type": "markdown",
      "metadata": {
        "colab_type": "text",
        "id": "ay9mgFSO5q1M"
      },
      "source": [
        "## Introduction"
      ]
    },
    {
      "cell_type": "markdown",
      "metadata": {
        "colab_type": "text",
        "id": "fcfkw97U5q1N"
      },
      "source": [
        "Python is a great general-purpose programming language on its own, but with the help of a few popular libraries (numpy, scipy, matplotlib) it becomes a powerful environment for mathematical computing.\n",
        "\n",
        "This webinar will serve as a quick crash course both on the Python programming language and on the use of Python for mathematical computing.\n",
        "\n"
      ]
    },
    {
      "cell_type": "markdown",
      "metadata": {
        "colab_type": "text",
        "id": "qo36kJw25q1P"
      },
      "source": [
        "In this bootcamp, we will cover:\n",
        "\n",
        "* Python Basics: \n",
        "\n",
        " Basic data types( Intergers, Floats, Strings, Boolean) \n",
        "\n",
        " Basic data structures(Containers, Lists, Dictionaries, Sets, Tuples)\n",
        " \n",
        " Basic functions\n",
        "\n",
        "* Challenges:\n",
        " \n",
        " Interactive session working through some python exercises\n",
        "\n",
        " \n",
        "\n",
        " ![alt text](https://www.csetutor.com/wp-content/uploads/2018/01/data-structure.png)"
      ]
    },
    {
      "cell_type": "markdown",
      "metadata": {
        "colab_type": "text",
        "id": "CV6OV42I5q1R"
      },
      "source": [
        "## Basics of Python"
      ]
    },
    {
      "cell_type": "markdown",
      "metadata": {
        "colab_type": "text",
        "id": "B9MacMaY5q1T"
      },
      "source": [
        "Python is a high-level, dynamically typed multiparadigm programming language. Python code is often said to be almost like pseudocode, since it allows you to express very powerful ideas in very few lines of code while being very readable\n",
        "\n",
        "**NOTE**: In Colab, you can execute the code in a cell by clicking inside the cell and pressing both **Shift+Enter** at the same time."
      ]
    },
    {
      "cell_type": "markdown",
      "metadata": {
        "colab_type": "text",
        "id": "sotHVM0t5q1l"
      },
      "source": [
        "###Basic data types"
      ]
    },
    {
      "cell_type": "markdown",
      "metadata": {
        "colab_type": "text",
        "id": "THkpPxwN5q1n"
      },
      "source": [
        "####Numbers\n",
        "Integers and Floats"
      ]
    },
    {
      "cell_type": "markdown",
      "metadata": {
        "id": "4Kmc32m4ju8c",
        "colab_type": "text"
      },
      "source": [
        "#####Integers"
      ]
    },
    {
      "cell_type": "code",
      "metadata": {
        "colab_type": "code",
        "id": "bVYQAovh5q1q",
        "colab": {}
      },
      "source": [
        "# declare an interger variable \n",
        "x = 3\n",
        "print(x, type(x))"
      ],
      "execution_count": 0,
      "outputs": []
    },
    {
      "cell_type": "code",
      "metadata": {
        "colab_type": "code",
        "id": "dztfWsYU5q1y",
        "colab": {}
      },
      "source": [
        "# Addition\n",
        "print(x + 1)  \n",
        "\n",
        "# Subtraction\n",
        "print(x - 1)  \n",
        "\n",
        "# Multiplication\n",
        "print(x * 2)  \n",
        "\n",
        "# Exponentiation\n",
        "print(x ** 2) "
      ],
      "execution_count": 0,
      "outputs": []
    },
    {
      "cell_type": "markdown",
      "metadata": {
        "id": "P60gwrUdj3m1",
        "colab_type": "text"
      },
      "source": [
        "######Floats"
      ]
    },
    {
      "cell_type": "code",
      "metadata": {
        "colab_type": "code",
        "id": "g4NuhVfj5q2E",
        "colab": {}
      },
      "source": [
        "# Declare a floating point variable\n",
        "y = 2.5\n",
        "print(y, type(y)) "
      ],
      "execution_count": 0,
      "outputs": []
    },
    {
      "cell_type": "code",
      "metadata": {
        "id": "3R1ank1qkNzN",
        "colab_type": "code",
        "colab": {}
      },
      "source": [
        "# Addition\n",
        "print(y + 1)  \n",
        "\n",
        "# Subtraction\n",
        "print(y - 1)  \n",
        "\n",
        "# Multiplication\n",
        "print(y * 2)  \n",
        "\n",
        "# Exponentiation\n",
        "print(y ** 2) "
      ],
      "execution_count": 0,
      "outputs": []
    },
    {
      "cell_type": "markdown",
      "metadata": {
        "colab_type": "text",
        "id": "uUl_bk835q2P"
      },
      "source": [
        "####Booleans"
      ]
    },
    {
      "cell_type": "markdown",
      "metadata": {
        "colab_type": "text",
        "id": "rgeh2qDx5q2Q"
      },
      "source": [
        "Python implements all of the usual operators for Boolean logic, but uses English words rather than symbols (`&&`, `||`, etc.):"
      ]
    },
    {
      "cell_type": "code",
      "metadata": {
        "colab_type": "code",
        "id": "yo6wobrY5q2R",
        "colab": {}
      },
      "source": [
        "# Declare boolean variable\n",
        "\n",
        "t, f = True, False\n",
        "print(t, type(t)) \n",
        "print(f, type(f)) "
      ],
      "execution_count": 0,
      "outputs": []
    },
    {
      "cell_type": "markdown",
      "metadata": {
        "colab_type": "text",
        "id": "zsBdYsbJ5q2Z"
      },
      "source": [
        "Now let's look at the operations:"
      ]
    },
    {
      "cell_type": "code",
      "metadata": {
        "colab_type": "code",
        "id": "BNVhsasL5q2c",
        "colab": {}
      },
      "source": [
        "# Logical AND (both conditions must be true to pass test)\n",
        "print(t and f) \n",
        "\n",
        "# Logical OR (any or both conditions must be true to pass test)\n",
        "print(t or f)  \n",
        "\n",
        " # Logical NOT (returns inverse of a boolean)\n",
        "print(not t)  \n",
        "\n",
        "# Logical XOR (only one conditions must be true to pass test)\n",
        "print(t != f)  "
      ],
      "execution_count": 0,
      "outputs": []
    },
    {
      "cell_type": "markdown",
      "metadata": {
        "colab_type": "text",
        "id": "jWt1jbF75q2j"
      },
      "source": [
        "####Strings"
      ]
    },
    {
      "cell_type": "code",
      "metadata": {
        "colab_type": "code",
        "id": "uyldbWX75q2k",
        "colab": {}
      },
      "source": [
        "# Strings can be represented using single quotes\n",
        "hello = 'hello'\n",
        "print(hello)\n",
        "# As well as double quotes, it makes no difference\n",
        "world = \"world\"\n",
        "print(world)\n",
        "# Using the 'len' function we can see how long a particular string or sentence is\n",
        "print(hello , len(hello))"
      ],
      "execution_count": 0,
      "outputs": []
    },
    {
      "cell_type": "code",
      "metadata": {
        "colab_type": "code",
        "id": "69vTXT6m5q2p",
        "colab": {}
      },
      "source": [
        "# String concatenation (joining of mulitple strings)\n",
        " hw = hello + ' ' + world\n",
        "print(hw)  "
      ],
      "execution_count": 0,
      "outputs": []
    },
    {
      "cell_type": "markdown",
      "metadata": {
        "colab_type": "text",
        "id": "Q-xLTBCM5q2y"
      },
      "source": [
        "String objects have a bunch of useful methods; for example:"
      ]
    },
    {
      "cell_type": "code",
      "metadata": {
        "colab_type": "code",
        "id": "5tMbkHM65q20",
        "colab": {}
      },
      "source": [
        "s = \"hello\"\n",
        "\n",
        " # Capitalize a string\n",
        "print(s.capitalize()) \n",
        "\n",
        " # Convert a string to uppercase\n",
        "print(s.upper())  \n",
        "\n",
        "# Right-justify a string, padding with spaces\n",
        "print(s.rjust(5))   \n",
        "\n",
        " # Center a string, padding with spaces\n",
        "print(s.center(7))    \n",
        "\n",
        "# Replace all instances of one substring with another\n",
        "print(s.replace('l', '(ello)'))  \n",
        "\n",
        "# Strip leading and trailing whitespace\n",
        "print('    world    '.strip()) "
      ],
      "execution_count": 0,
      "outputs": []
    },
    {
      "cell_type": "markdown",
      "metadata": {
        "colab_type": "text",
        "id": "jHCAFmb95q25"
      },
      "source": [
        "###Containers\n",
        "\n",
        "Python includes several built-in container types: lists, dictionaries, sets, and tuples."
      ]
    },
    {
      "cell_type": "markdown",
      "metadata": {
        "colab_type": "text",
        "id": "f9BNPsMT5q27"
      },
      "source": [
        "####Lists"
      ]
    },
    {
      "cell_type": "markdown",
      "metadata": {
        "colab_type": "text",
        "id": "ipDjlY6S5q28"
      },
      "source": [
        "A list is the Python equivalent of an array, but is resizeable and can contain elements of different data types:"
      ]
    },
    {
      "cell_type": "code",
      "metadata": {
        "colab_type": "code",
        "id": "4_TQGb2i5q29",
        "colab": {}
      },
      "source": [
        "# Create a list\n",
        "xs = [3, 1, 2]   \n",
        "print(xs)\n",
        "\n",
        "# Positive indices count from the start of the list starting at 0\n",
        "print(xs[0])\n",
        "print(xs[2])\n",
        "\n",
        " # Negative indices count from the end of the list starting at -1\n",
        "print(xs[-3])    "
      ],
      "execution_count": 0,
      "outputs": []
    },
    {
      "cell_type": "code",
      "metadata": {
        "colab_type": "code",
        "id": "aqoDqKcQ5q3A",
        "colab": {}
      },
      "source": [
        " # Lists can contain elements of different types\n",
        " xs[1] = 'hello' \n",
        "print(xs)"
      ],
      "execution_count": 0,
      "outputs": []
    },
    {
      "cell_type": "code",
      "metadata": {
        "colab_type": "code",
        "id": "WrloXM9J5q3G",
        "colab": {}
      },
      "source": [
        "# Add a new element to the end of the list\n",
        "xs.append('bob')\n",
        "print(xs)  "
      ],
      "execution_count": 0,
      "outputs": []
    },
    {
      "cell_type": "code",
      "metadata": {
        "colab_type": "code",
        "id": "EkQ9BNzz5q3J",
        "colab": {}
      },
      "source": [
        "# Remove and return the last element of the list\n",
        "  \n",
        "print()"
      ],
      "execution_count": 0,
      "outputs": []
    },
    {
      "cell_type": "markdown",
      "metadata": {
        "colab_type": "text",
        "id": "OwN1QfB25q3P"
      },
      "source": [
        "####Slicing"
      ]
    },
    {
      "cell_type": "markdown",
      "metadata": {
        "colab_type": "text",
        "id": "jcMqNrgu5q3Q"
      },
      "source": [
        "In addition to accessing list elements one at a time, Python provides concise syntax to access sublists; this is known as slicing:"
      ]
    },
    {
      "cell_type": "code",
      "metadata": {
        "colab_type": "code",
        "id": "wwZ6SA-L5q3Q",
        "colab": {}
      },
      "source": [
        "# range is a built-in function that creates an iterator, which we turn into a list of integers beginning at 0\n",
        "nums = list(range(5))   \n",
        "\n",
        "# Prints \"[0, 1, 2, 3, 4]\"\n",
        "print(nums)  \n",
        "\n",
        "# Get a slice from index 2 to 4 (exclusive); prints \"[2, 3]\"\n",
        "print(nums[2:5])    \n",
        "\n",
        "# Get a slice from index 2 to the end; prints \"[2, 3, 4]\"\n",
        "print(nums[1: ])  \n",
        "\n",
        "# Get a slice from the start to index 2 (exclusive); prints \"[0, 1]\"\n",
        "print(nums[ :3])    \n",
        "\n",
        "# Get a slice of the whole list; prints \"[0, 1, 2, 3, 4]\"\n",
        "print(nums[:]) \n",
        "\n",
        "# Slice indices can be negative; prints \"[0, 1, 2, 3]\"\n",
        "print(nums[:-1])    \n",
        "\n",
        "# Assign a new sublist to a slice\n",
        "nums[2:4] = [8, 9] \n",
        "\n",
        "# Prints \"[0, 1, 8, 8, 4]\"\n",
        "print(nums)         "
      ],
      "execution_count": 0,
      "outputs": []
    },
    {
      "cell_type": "markdown",
      "metadata": {
        "colab_type": "text",
        "id": "5xiRdmop5q3V"
      },
      "source": [
        "####Loops"
      ]
    },
    {
      "cell_type": "markdown",
      "metadata": {
        "colab_type": "text",
        "id": "W4aIykm35q3W"
      },
      "source": [
        "You can loop over the elements of a list like this:"
      ]
    },
    {
      "cell_type": "code",
      "metadata": {
        "colab_type": "code",
        "id": "DzPkWoQU5q3X",
        "colab": {}
      },
      "source": [
        "animals = ['cat', 'dog', 'rabbit']\n",
        "for animal in animals:\n",
        "    print(animal)"
      ],
      "execution_count": 0,
      "outputs": []
    },
    {
      "cell_type": "markdown",
      "metadata": {
        "colab_type": "text",
        "id": "SfjRY7oh5q3c"
      },
      "source": [
        "If you want access to the index of each element within the body of a loop, use the built-in `enumerate` function:"
      ]
    },
    {
      "cell_type": "code",
      "metadata": {
        "colab_type": "code",
        "id": "KHfWh7cm5q3d",
        "colab": {}
      },
      "source": [
        "animals = ['cat', 'dog', 'rabbit']\n",
        "for idx, animal in enumerate(animals):\n",
        "    print('#{}: {}'.format(idx + 1, animal))"
      ],
      "execution_count": 0,
      "outputs": []
    },
    {
      "cell_type": "markdown",
      "metadata": {
        "colab_type": "text",
        "id": "GbMrJih65q3f"
      },
      "source": [
        "####List comprehensions:"
      ]
    },
    {
      "cell_type": "markdown",
      "metadata": {
        "colab_type": "text",
        "id": "uEw19H_q5q3g"
      },
      "source": [
        "When programming, we frequently want to transform one type of data into another. As a simple example, consider the following code that computes square numbers:"
      ]
    },
    {
      "cell_type": "code",
      "metadata": {
        "colab_type": "code",
        "id": "q3nPnpPE5q3h",
        "colab": {}
      },
      "source": [
        "nums = [0, 1, 2, 3, 4]\n",
        "squares = []\n",
        "for x in nums:\n",
        "    squares.append(x ** 2)\n",
        "print(squares)"
      ],
      "execution_count": 0,
      "outputs": []
    },
    {
      "cell_type": "markdown",
      "metadata": {
        "colab_type": "text",
        "id": "uSsysiX95q3k"
      },
      "source": [
        "You can make this code simpler using a list comprehension:"
      ]
    },
    {
      "cell_type": "code",
      "metadata": {
        "colab_type": "code",
        "id": "k4ezY_Vn5q3l",
        "colab": {}
      },
      "source": [
        "nums = [0, 1, 2, 3, 4]\n",
        "squares = [x ** 2 for x in nums]\n",
        "print(squares)"
      ],
      "execution_count": 0,
      "outputs": []
    },
    {
      "cell_type": "markdown",
      "metadata": {
        "colab_type": "text",
        "id": "2r-xDQrV5q3p"
      },
      "source": [
        "List comprehensions can also contain conditions:"
      ]
    },
    {
      "cell_type": "code",
      "metadata": {
        "colab_type": "code",
        "id": "FuceJKWp5q3q",
        "colab": {}
      },
      "source": [
        "nums = [0, 1, 2, 3, 4]\n",
        "even_squares = [x ** 2 for x in nums if x % 2 == 0]\n",
        "print(even_squares)"
      ],
      "execution_count": 0,
      "outputs": []
    },
    {
      "cell_type": "markdown",
      "metadata": {
        "colab_type": "text",
        "id": "Zn9lPGuA5q3t"
      },
      "source": [
        "####Dictionaries"
      ]
    },
    {
      "cell_type": "markdown",
      "metadata": {
        "colab_type": "text",
        "id": "qR4dwMJ15q3t"
      },
      "source": [
        "A dictionary stores (key, value) pairs, similar to a `Map` in Java or an object in Javascript. You can use it like this:"
      ]
    },
    {
      "cell_type": "code",
      "metadata": {
        "colab_type": "code",
        "id": "XSqsRxER5q3u",
        "colab": {}
      },
      "source": [
        "# Create a new dictionary with some data\n",
        "d = {'cat': 'nasty', 'dog': 'furry'}\n",
        "\n",
        " # Get an entry from a dictionary\n",
        "print(d['cat'])    \n",
        "\n",
        "# Check if a dictionary has a given key\n",
        "print('cat' in d)     "
      ],
      "execution_count": 0,
      "outputs": []
    },
    {
      "cell_type": "code",
      "metadata": {
        "colab_type": "code",
        "id": "6-fyFvpe5q3w",
        "colab": {}
      },
      "source": [
        "# Set an a new entry in a dictionary\n",
        "d['fish'] = 'wet'    \n",
        "print(d['fish'])      \n",
        "print(d)"
      ],
      "execution_count": 0,
      "outputs": []
    },
    {
      "cell_type": "code",
      "metadata": {
        "colab_type": "code",
        "id": "cqFipdSW5q3z",
        "colab": {}
      },
      "source": [
        " # KeyError: reqquesting data that does not exist in the dictionary \n",
        "print(d['rabbit'])  #'rabbit' not a key of d"
      ],
      "execution_count": 0,
      "outputs": []
    },
    {
      "cell_type": "code",
      "metadata": {
        "colab_type": "code",
        "id": "mqwjq1JB5q32",
        "colab": {}
      },
      "source": [
        "# Get an element with a default;\n",
        "print(d.get('rabbit', 'N/A')) \n",
        "\n",
        " # Get an element with a default\n",
        "print(d.get('fish', 'N/A'))  \n",
        "print(d)"
      ],
      "execution_count": 0,
      "outputs": []
    },
    {
      "cell_type": "code",
      "metadata": {
        "colab_type": "code",
        "id": "JSBfW9cM5q35",
        "colab": {}
      },
      "source": [
        "# Remove an element from a dictionary\n",
        "\n",
        "print(d)"
      ],
      "execution_count": 0,
      "outputs": []
    },
    {
      "cell_type": "markdown",
      "metadata": {
        "colab_type": "text",
        "id": "39GhDg_S5q3_"
      },
      "source": [
        "It is easy to iterate over the keys in a dictionary:"
      ]
    },
    {
      "cell_type": "code",
      "metadata": {
        "colab_type": "code",
        "id": "AGUsSd285q4A",
        "colab": {}
      },
      "source": [
        "d = {'person': 2, 'cat': 4, 'spider': 8}\n",
        "for animal in d:\n",
        "    legs = d[animal]\n",
        "    print('A {} has {} legs'.format(animal, legs))"
      ],
      "execution_count": 0,
      "outputs": []
    },
    {
      "cell_type": "markdown",
      "metadata": {
        "colab_type": "text",
        "id": "USWlJ1Uh5q4D"
      },
      "source": [
        "If you want access to keys and their corresponding values, use the iteritems method:"
      ]
    },
    {
      "cell_type": "code",
      "metadata": {
        "colab_type": "code",
        "id": "ksXilYJx5q4E",
        "colab": {}
      },
      "source": [
        "d = {'person': 2, 'cat': 4, 'spider': 8}\n",
        "for animal, legs in d.items():\n",
        "    print('A {} has {} legs'.format(animal, legs))"
      ],
      "execution_count": 0,
      "outputs": []
    },
    {
      "cell_type": "markdown",
      "metadata": {
        "colab_type": "text",
        "id": "41-CY-Pz5q4G"
      },
      "source": [
        "Dictionary comprehensions: These are similar to list comprehensions, but allow you to easily construct dictionaries. For example:"
      ]
    },
    {
      "cell_type": "code",
      "metadata": {
        "colab_type": "code",
        "id": "BrEgZHHq5q4I",
        "colab": {}
      },
      "source": [
        "nums = [0, 1, 2, 3, 4]\n",
        "even_num_to_square = {x: x ** 2 for x in nums if x % 2 == 0}\n",
        "print(even_num_to_square)"
      ],
      "execution_count": 0,
      "outputs": []
    },
    {
      "cell_type": "markdown",
      "metadata": {
        "colab_type": "text",
        "id": "tDD47vMB5q4L"
      },
      "source": [
        "####Sets"
      ]
    },
    {
      "cell_type": "markdown",
      "metadata": {
        "colab_type": "text",
        "id": "GA8eU1aU5q4M"
      },
      "source": [
        "A set is an unordered collection of distinct elements. As a simple example, consider the following:"
      ]
    },
    {
      "cell_type": "code",
      "metadata": {
        "colab_type": "code",
        "id": "bqrfOvL85q4O",
        "colab": {}
      },
      "source": [
        "# Creating a set \n",
        "animals = {'cat', 'dog'}\n",
        "\n",
        "# Check if an element is in a set\n",
        "print('cat' in animals)   \n",
        "print('fish' in animals) \n"
      ],
      "execution_count": 0,
      "outputs": []
    },
    {
      "cell_type": "code",
      "metadata": {
        "colab_type": "code",
        "id": "iBoumJBc5q4S",
        "colab": {}
      },
      "source": [
        "# Adding an element to a set\n",
        "animals.add('fish')      \n",
        "print('fish' in animals)\n",
        "\n",
        "# Number of elements in a set\n",
        "print(len(animals))      \n",
        "print(animals)"
      ],
      "execution_count": 0,
      "outputs": []
    },
    {
      "cell_type": "code",
      "metadata": {
        "colab_type": "code",
        "id": "4WOQYagQ5q4W",
        "colab": {}
      },
      "source": [
        "# Adding an element that is already in the set does nothing\n",
        "animals.add('cat')       \n",
        "print(len(animals))  \n",
        "\n",
        "# Remove an element from a set\n",
        "animals.remove('cat')    \n",
        "print(len(animals))    \n",
        "print(animals) "
      ],
      "execution_count": 0,
      "outputs": []
    },
    {
      "cell_type": "markdown",
      "metadata": {
        "colab_type": "text",
        "id": "hq0u2OQT5q4b"
      },
      "source": [
        "_Loops_: Iterating over a set has the same syntax as iterating over a list; however since sets are unordered, you cannot make assumptions about the order in which you visit the elements of the set:"
      ]
    },
    {
      "cell_type": "code",
      "metadata": {
        "colab_type": "code",
        "id": "0UFyLDm55q4c",
        "colab": {}
      },
      "source": [
        "animals = {'cat', 'dog', 'fish'}\n",
        "for idx, animal in enumerate(animals):\n",
        "    print('#{}: {}'.format(idx + 1, animal))"
      ],
      "execution_count": 0,
      "outputs": []
    },
    {
      "cell_type": "markdown",
      "metadata": {
        "colab_type": "text",
        "id": "fL0UctlO5q4j"
      },
      "source": [
        "####Tuples"
      ]
    },
    {
      "cell_type": "markdown",
      "metadata": {
        "colab_type": "text",
        "id": "iezj80Mu5q4j"
      },
      "source": [
        "A tuple is an (immutable) ordered list of values. A tuple is in many ways similar to a list; one of the most important differences is that tuples can be used as keys in dictionaries and as elements of sets, while lists cannot. Here is a trivial example:"
      ]
    },
    {
      "cell_type": "code",
      "metadata": {
        "colab_type": "code",
        "id": "mdEyq1hC5q4k",
        "colab": {}
      },
      "source": [
        "# Create a dictionary with tuple keys\n",
        "d = {(x, x + 1): x for x in range(10)} \n",
        "\n",
        "# Create a tuple\n",
        "t = (5, 6)       \n",
        "print(t, type(t))\n",
        "print(d[t])       \n",
        "print(d[(1, 2)])\n",
        "print(d[2,3])"
      ],
      "execution_count": 0,
      "outputs": []
    },
    {
      "cell_type": "code",
      "metadata": {
        "id": "jyJvsaW_DHnI",
        "colab_type": "code",
        "colab": {}
      },
      "source": [
        "print(d)"
      ],
      "execution_count": 0,
      "outputs": []
    },
    {
      "cell_type": "markdown",
      "metadata": {
        "colab_type": "text",
        "id": "w1VXSG2s5q4q"
      },
      "source": [
        "###Functions"
      ]
    },
    {
      "cell_type": "markdown",
      "metadata": {
        "colab_type": "text",
        "id": "-4lAKLDY5q4r"
      },
      "source": [
        "Python functions are defined using the `def` keyword. For example:"
      ]
    },
    {
      "cell_type": "code",
      "metadata": {
        "colab_type": "code",
        "id": "oysjtHVh5q4s",
        "colab": {}
      },
      "source": [
        "def sign(x):\n",
        "    if x > 0:\n",
        "        return 'positive'\n",
        "    elif x < 0:\n",
        "        return 'negative'\n",
        "    else:\n",
        "        return 'zero'\n",
        "\n",
        "for x in [-1, 0, 1]:\n",
        "    print(sign(x))"
      ],
      "execution_count": 0,
      "outputs": []
    },
    {
      "cell_type": "code",
      "metadata": {
        "id": "pslV7RmmyTnG",
        "colab_type": "code",
        "colab": {}
      },
      "source": [
        "sign(0)"
      ],
      "execution_count": 0,
      "outputs": []
    },
    {
      "cell_type": "markdown",
      "metadata": {
        "colab_type": "text",
        "id": "YhQkNfyd5q4x"
      },
      "source": [
        "We will often define functions to take in optional keyword arguments, like this:"
      ]
    },
    {
      "cell_type": "code",
      "metadata": {
        "colab_type": "code",
        "id": "TH04kWxK5q4y",
        "colab": {}
      },
      "source": [
        "def hello(name, loud=False):\n",
        "    if loud:\n",
        "        print('HELLO, {}'.format(name.upper()))\n",
        "    else:\n",
        "        print('Hello, {}!'.format(name))\n",
        "\n",
        "hello('Bob')\n",
        "hello('Fred', loud=True)"
      ],
      "execution_count": 0,
      "outputs": []
    },
    {
      "cell_type": "markdown",
      "metadata": {
        "id": "QTIYhgAhJp1i",
        "colab_type": "text"
      },
      "source": [
        "##Challenges\n"
      ]
    },
    {
      "cell_type": "markdown",
      "metadata": {
        "id": "u3TwdJtLNDyJ",
        "colab_type": "text"
      },
      "source": [
        "Basic sorting functions\n",
        "\n",
        "> Sort the list in alphabetical order"
      ]
    },
    {
      "cell_type": "code",
      "metadata": {
        "id": "p1IzcAdqKmJR",
        "colab_type": "code",
        "colab": {}
      },
      "source": [
        "list_words = ['giraffe' , 'apple', 'bob' , 'cat' , 'xray']\n",
        "\n",
        "def basic_sort(words):\n",
        "  words.sort()\n",
        "  return words\n"
      ],
      "execution_count": 0,
      "outputs": []
    },
    {
      "cell_type": "code",
      "metadata": {
        "id": "MTYkXdVuM0Rv",
        "colab_type": "code",
        "colab": {}
      },
      "source": [
        "basic_sort(list_words)"
      ],
      "execution_count": 0,
      "outputs": []
    },
    {
      "cell_type": "markdown",
      "metadata": {
        "id": "3swzorFANL-I",
        "colab_type": "text"
      },
      "source": [
        "Conditional sort function\n",
        "\n",
        "\n",
        ">Create a function that takes in a list, sorts the list and will print out all the items of a list that satisfy a condition\n",
        "i.e print all even numbers\n",
        "\n",
        "\n"
      ]
    },
    {
      "cell_type": "code",
      "metadata": {
        "id": "QZ1Sf7GEW3of",
        "colab_type": "code",
        "colab": {}
      },
      "source": [
        "list_num = [1, 1, 2,44, 3, 5, 8, 13, 21, 34, 55, 89]\n",
        "\n",
        "def even_num(list1):\n",
        "  list1.sort()\n",
        "  return ([x for x in list1 if x %2 ==0])"
      ],
      "execution_count": 0,
      "outputs": []
    },
    {
      "cell_type": "code",
      "metadata": {
        "id": "Lw0sSFCDXq6a",
        "colab_type": "code",
        "colab": {}
      },
      "source": [
        "even_num(list_num)"
      ],
      "execution_count": 0,
      "outputs": []
    },
    {
      "cell_type": "markdown",
      "metadata": {
        "id": "EyIOctICCuMr",
        "colab_type": "text"
      },
      "source": [
        "Now lets take the example above and apply an opperation to it"
      ]
    },
    {
      "cell_type": "code",
      "metadata": {
        "id": "9VnV8gQMCGVQ",
        "colab_type": "code",
        "colab": {}
      },
      "source": [
        "list_num = [1, 1, 2,44, 3, 5, 8, 13, 21, 34, 55, 89]\n",
        "\n",
        "def even_num(list1):\n",
        "  list1.sort()\n",
        "  return ([(x, x*2 , x +2) for x in list1 if x %2 ==0])"
      ],
      "execution_count": 0,
      "outputs": []
    },
    {
      "cell_type": "code",
      "metadata": {
        "id": "gAIYiQGqCn_P",
        "colab_type": "code",
        "colab": {}
      },
      "source": [
        "even_num(list_num)"
      ],
      "execution_count": 0,
      "outputs": []
    },
    {
      "cell_type": "markdown",
      "metadata": {
        "id": "3PXk5QfGDVpt",
        "colab_type": "text"
      },
      "source": [
        "Conditional Function - Loops "
      ]
    },
    {
      "cell_type": "code",
      "metadata": {
        "id": "Tk2ClOtHCssz",
        "colab_type": "code",
        "colab": {}
      },
      "source": [
        "def sq_odd(num_list):\n",
        "  numbers = []\n",
        "  for i in range(len(num_list)):\n",
        "    x = int(num_list[i])\n",
        "    if x % 2 == 1:\n",
        "      numbers.append(x**2)\n",
        "\n",
        "    \n",
        "  return numbers\n"
      ],
      "execution_count": 0,
      "outputs": []
    },
    {
      "cell_type": "code",
      "metadata": {
        "id": "IWOo3JrMDnQj",
        "colab_type": "code",
        "colab": {}
      },
      "source": [
        "sq_odd([-1,-2,-3,-4,4,5,66,77,88,99,0,123,234,345,456])"
      ],
      "execution_count": 0,
      "outputs": []
    },
    {
      "cell_type": "code",
      "metadata": {
        "id": "hcYfgdxxDxVA",
        "colab_type": "code",
        "colab": {}
      },
      "source": [
        ""
      ],
      "execution_count": 0,
      "outputs": []
    }
  ]
}